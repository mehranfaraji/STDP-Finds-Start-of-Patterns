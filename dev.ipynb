{
 "cells": [
  {
   "cell_type": "code",
   "execution_count": 6,
   "metadata": {},
   "outputs": [],
   "source": [
    "import numpy as np \n",
    "import matplotlib.pyplot as plt  \n",
    "from scipy import sparse\n",
    "import os"
   ]
  },
  {
   "cell_type": "markdown",
   "metadata": {},
   "source": [
    "## Reading sample data"
   ]
  },
  {
   "cell_type": "code",
   "execution_count": 4,
   "metadata": {},
   "outputs": [],
   "source": [
    "input_folder = \"input-data\"\n",
    "times = np.load(os.path.join(input_folder, \"times.npy\"))\n",
    "indices = np.load(os.path.join(input_folder, \"indices.npy\"))\n",
    "times_pattern = np.load(os.path.join(input_folder, \"times_pattern.npy\"))\n",
    "indices_pattern = np.load(os.path.join(input_folder, \"indices_pattern.npy\"))\n",
    "position_copypaste = np.load(os.path.join(input_folder, \"position_copypaste.npy\"))"
   ]
  },
  {
   "cell_type": "code",
   "execution_count": 7,
   "metadata": {},
   "outputs": [],
   "source": [
    "sparse_spike_train = sparse.load_npz(os.path.join(input_folder, \"sparse_spike_train.npz\"))\n",
    "spike_train = sparse_spike_train.toarray()\n",
    "pattern_times = list(np.load(os.path.join(input_folder, \"pattern_times.npy\")))"
   ]
  },
  {
   "cell_type": "markdown",
   "metadata": {},
   "source": [
    "## Creating Neurons, Synapses, Learning Rule, Network"
   ]
  },
  {
   "cell_type": "code",
   "execution_count": 19,
   "metadata": {},
   "outputs": [],
   "source": [
    "from typing import Iterable, Optional\n",
    "import numpy"
   ]
  },
  {
   "cell_type": "markdown",
   "metadata": {},
   "source": [
    "some notes for my own development:\n",
    "- for now all the initialization parameters are None, you can change to some default values in the future.\n",
    "\n",
    "- Pay attention to register_buffer for some of the parameters in the model. The ones which do not need to be trained but are needed to save in `state_dict`. When moving the code to Pytorch maybe!\n",
    "\n",
    "- "
   ]
  },
  {
   "cell_type": "code",
   "execution_count": 108,
   "metadata": {},
   "outputs": [],
   "source": [
    "class Synapse():\n",
    "    def __init__(self, w: numpy.array):\n",
    "        self.w = w\n",
    "        self.vfunc = np.vectorize(self.get_tmp_w_)\n",
    "        ### TODO: Somewhere in the code, the same place I calculate\n",
    "        ### the correct current spikes_t I should also calculate tmp_w\n",
    "        ### using the code below!\n",
    "        tmp_w = vfunc(spikes_i)\n",
    "        tmp_w\n",
    "\n",
    "    def get_tmp_w_(self, w_j):\n",
    "            return self.w[w_j]\n"
   ]
  },
  {
   "cell_type": "code",
   "execution_count": 136,
   "metadata": {},
   "outputs": [],
   "source": [
    "from typing import Any\n",
    "\n",
    "\n",
    "class SRM():\n",
    "    def __init__(\n",
    "            self, \n",
    "            N: int = None,\n",
    "            threshold: float = None,\n",
    "            reset: float = None,\n",
    "            refractory: float = None, # refractory is a float time [second]\n",
    "            tau_m: float = None,\n",
    "            tau_s: float = None,\n",
    "            K1: float = None,\n",
    "            K2: float = None,\n",
    "            input_window: float = None, # Maximum time [second] to ignore inputs before it by kernels \n",
    "            train_mode: bool = True\n",
    "        ) -> None:\n",
    "        \"\"\"\n",
    "        \"\"\"\n",
    "        assert N is not None, \"Number of neurons must be provided.\"\n",
    "\n",
    "        self.N = N\n",
    "        self.threshold = threshold\n",
    "        self.reset = reset\n",
    "        self.refractory = refractory\n",
    "        self.tau_m = tau_m\n",
    "        self.tau_s = tau_s\n",
    "        self.K1 = K1\n",
    "        self.K2 = K2\n",
    "        self.input_window = input_window\n",
    "        self.train_mode = train_mode\n",
    "        ## TODO: Do I need to tell the model about dt? dt should be given by user in net = Networ()\n",
    "        self.dt = None\n",
    "        ## TODO: I think we need to keep track of current time (t).\n",
    "        ## TODO: Updating self.t will occur inside the net = Network? \n",
    "        self.t = None\n",
    "        self.last_spike_time = - np.inf\n",
    "\n",
    "        self.v = None\n",
    "        self.potential_rec = []\n",
    "    \n",
    "    def __call__(self, *args: Any, **kwds: Any) -> Any:\n",
    "        self.forward()\n",
    "            \n",
    "    def forward(self, spikes_t: numpy.array, tmp_w: numpy.array, ):\n",
    "        \"\"\"\n",
    "        spikes_t here is a correct window of spikes_t.\n",
    "        \"\"\"\n",
    "        if len(spikes_t) != 0:\n",
    "\n",
    "            s = self.t - spikes_t\n",
    "            eps = self.eps_kernel(s)\n",
    "            # print(f\"eps = {eps}\")\n",
    "            # print(f\"tmp_w = {tmp_w}\")\n",
    "            eps *= tmp_w\n",
    "            eps = sum(eps)\n",
    "            # print(eps)\n",
    "            s = self.t + self.dt - self.last_spike_time\n",
    "            eta = self.eta_kernel(s)\n",
    "            # print(eta)\n",
    "            potential = eta + eps\n",
    "            # print(potential)\n",
    "            self.potential_rec.append(potential)\n",
    "            # return potential\n",
    "\n",
    "\n",
    "    def reset_neuron(self,):\n",
    "        ### what should be reseted exactly?\n",
    "        self.t = 0\n",
    "        self.v = self.reset\n",
    "        self.last_spike_time = - np.inf\n",
    "    \n",
    "    \n",
    "    ## TODO: use compute_k() when adding the layer into the Network()\n",
    "    def compute_K(self):\n",
    "        \"\"\"\n",
    "        K is chosen such that the maximum value of epsilon kernel will be 1, based on the tau_m and tau_s.\n",
    "        \"\"\"\n",
    "        s_max = (self.tau_m * self.tau_s) / (self.tau_s - self.tau_m) * np.log(self.tau_s / self.tau_m)\n",
    "        max_val = (np.exp(-s_max/self.tau_m) - np.exp(-s_max/self.tau_s))\n",
    "        self.K = 1 / max_val\n",
    "    \n",
    "    def eps_kernel(self, s: numpy.array):\n",
    "        \"\"\"\"\n",
    "        s = t - t_j \n",
    "        time difference between thre current time and spike time of presynaptic neuron (t_j)\n",
    "        \"\"\"\n",
    "        return self.K * (np.exp(-s/self.tau_m) - np.exp(-s/self.tau_s))\n",
    "\n",
    "    def eta_kernel(self, s: numpy.array):\n",
    "        \"\"\"\n",
    "        s = t - t_i\n",
    "        \"\"\"\n",
    "        positive_pulse = self.K1 * np.exp(-s/self.tau_m)\n",
    "        negative_spike_afterpotential = self.K2 * (np.exp(-s/self.tau_m) - np.exp(-s/self.tau_s))\n",
    "        return self.threshold * (positive_pulse - negative_spike_afterpotential)\n",
    "\n",
    "\n",
    "    \n"
   ]
  },
  {
   "cell_type": "code",
   "execution_count": 137,
   "metadata": {},
   "outputs": [
    {
     "ename": "AssertionError",
     "evalue": "if assert gets Flase then we get an error message!",
     "output_type": "error",
     "traceback": [
      "\u001b[1;31m---------------------------------------------------------------------------\u001b[0m",
      "\u001b[1;31mAssertionError\u001b[0m                            Traceback (most recent call last)",
      "Cell \u001b[1;32mIn[137], line 1\u001b[0m\n\u001b[1;32m----> 1\u001b[0m \u001b[38;5;28;01massert\u001b[39;00m (\u001b[38;5;28;01mFalse\u001b[39;00m \u001b[38;5;129;01mand\u001b[39;00m \u001b[38;5;28;01mTrue\u001b[39;00m), \u001b[38;5;124m\"\u001b[39m\u001b[38;5;124mif assert gets Flase then we get an error message!\u001b[39m\u001b[38;5;124m\"\u001b[39m \n",
      "\u001b[1;31mAssertionError\u001b[0m: if assert gets Flase then we get an error message!"
     ]
    }
   ],
   "source": [
    "assert (False and True), \"if assert gets Flase then we get an error message!\" "
   ]
  },
  {
   "cell_type": "code",
   "execution_count": 138,
   "metadata": {},
   "outputs": [],
   "source": [
    "dt = 0.001\n",
    "spikes_t = np.array([2, 23, 44, 45, 48, 61]) * dt\n",
    "spikes_i = np.array([0, 0,  0,  1,  1,  1])\n",
    "weight_example = np.array([1,1], dtype=float).reshape(-1,1)\n",
    "tmp_w = np.array([1, 1, 1, 1, 1, 1])\n",
    "\n",
    "# spikes_t = np.array([10, 12, 14, 14,]) * dt\n",
    "# spikes_i = np.array([0,  1,  0,  1,])\n",
    "# w = np.array([1,5])\n",
    "model = SRM(N=3,\n",
    "            threshold=2.9,\n",
    "            reset= 0,\n",
    "            refractory=0.001, # refractory is a float time [second]\n",
    "            tau_m=0.010,\n",
    "            tau_s=0.0025,\n",
    "            K1=2,\n",
    "            K2=4,\n",
    "            input_window= 7 * 0.010, # Maximum time [second] to ignore inputs before it by kernels \n",
    "            train_mode= True )"
   ]
  },
  {
   "cell_type": "code",
   "execution_count": 139,
   "metadata": {},
   "outputs": [],
   "source": [
    "model.t = 0 * dt\n",
    "model.compute_K()\n",
    "model.last_spike_time = - np.inf\n",
    "model.dt = dt \n",
    "for it in range(75):\n",
    "    model.t = it * dt\n",
    "    idx = np.searchsorted(spikes_t, it*dt, side='right')\n",
    "    model.forward(spikes_t[:idx], tmp_w[:idx])"
   ]
  },
  {
   "cell_type": "code",
   "execution_count": 141,
   "metadata": {},
   "outputs": [
    {
     "data": {
      "image/png": "[encoded data removed]",
      "text/plain": [
       "<Figure size 800x600 with 1 Axes>"
      ]
     },
     "metadata": {},
     "output_type": "display_data"
    }
   ],
   "source": [
    "def plot_membrane_potential(potential_rec, threshold):\n",
    "        plt.figure(figsize=(8,6))\n",
    "        plt.plot(np.arange(0,len(potential_rec),1), potential_rec)\n",
    "        # spikes = np.where(spike_train ==1)[1]\n",
    "        # for spk in spikes:\n",
    "            # plt.axvline(spk, linestyle='-.', color='gray')\n",
    "        plt.axhline(threshold, linestyle='dotted', color='orange')\n",
    "        plt.axhline(0, linestyle='dotted', color='k')\n",
    "        plt.xlabel('Time (ms)')\n",
    "        plt.ylabel('Potential (arbitraary units)')\n",
    "        plt.show()\n",
    "\n",
    "plot_membrane_potential(model.potential_rec, 2.9)"
   ]
  },
  {
   "cell_type": "code",
   "execution_count": 107,
   "metadata": {},
   "outputs": [
    {
     "data": {
      "text/plain": [
       "array([1, 5, 1, 5])"
      ]
     },
     "execution_count": 107,
     "metadata": {},
     "output_type": "execute_result"
    }
   ],
   "source": [
    "def tmp_w_creator(w_j):\n",
    "    return w[w_j]\n",
    "\n",
    "vfunc = np.vectorize(tmp_w_creator)\n",
    "tmp_w = vfunc(spikes_i)\n",
    "tmp_w\n"
   ]
  },
  {
   "cell_type": "code",
   "execution_count": 86,
   "metadata": {},
   "outputs": [
    {
     "name": "stdout",
     "output_type": "stream",
     "text": [
      "at iteration 0, calculating epsilon for time: 1ms\n",
      "[ 0  2  4  5  6  7 10 12 14 14 16 17]\n",
      "[0]\n",
      "idx = 1\n",
      "\n",
      "at iteration 1, calculating epsilon for time: 2ms\n",
      "[ 0  2  4  5  6  7 10 12 14 14 16 17]\n",
      "[0]\n",
      "idx = 1\n",
      "\n",
      "at iteration 2, calculating epsilon for time: 3ms\n",
      "[ 0  2  4  5  6  7 10 12 14 14 16 17]\n",
      "[0 2]\n",
      "idx = 2\n",
      "\n",
      "at iteration 3, calculating epsilon for time: 4ms\n",
      "[ 0  2  4  5  6  7 10 12 14 14 16 17]\n",
      "[0 2]\n",
      "idx = 2\n",
      "\n",
      "at iteration 4, calculating epsilon for time: 5ms\n",
      "[ 0  2  4  5  6  7 10 12 14 14 16 17]\n",
      "[0 2 4]\n",
      "idx = 3\n",
      "\n",
      "at iteration 5, calculating epsilon for time: 6ms\n",
      "[ 0  2  4  5  6  7 10 12 14 14 16 17]\n",
      "[0 2 4 5]\n",
      "idx = 4\n",
      "\n",
      "at iteration 6, calculating epsilon for time: 7ms\n",
      "[ 0  2  4  5  6  7 10 12 14 14 16 17]\n",
      "[0 2 4 5 6]\n",
      "idx = 5\n",
      "\n",
      "at iteration 7, calculating epsilon for time: 8ms\n",
      "[ 0  2  4  5  6  7 10 12 14 14 16 17]\n",
      "[0 2 4 5 6 7]\n",
      "idx = 6\n",
      "\n",
      "at iteration 8, calculating epsilon for time: 9ms\n",
      "[ 0  2  4  5  6  7 10 12 14 14 16 17]\n",
      "[0 2 4 5 6 7]\n",
      "idx = 6\n",
      "\n",
      "at iteration 9, calculating epsilon for time: 10ms\n",
      "[ 0  2  4  5  6  7 10 12 14 14 16 17]\n",
      "[0 2 4 5 6 7]\n",
      "idx = 6\n",
      "\n",
      "at iteration 10, calculating epsilon for time: 11ms\n",
      "[ 0  2  4  5  6  7 10 12 14 14 16 17]\n",
      "[ 0  2  4  5  6  7 10]\n",
      "idx = 7\n",
      "\n",
      "at iteration 11, calculating epsilon for time: 12ms\n",
      "[ 0  2  4  5  6  7 10 12 14 14 16 17]\n",
      "[ 0  2  4  5  6  7 10]\n",
      "idx = 7\n",
      "\n",
      "at iteration 12, calculating epsilon for time: 13ms\n",
      "[ 0  2  4  5  6  7 10 12 14 14 16 17]\n",
      "[ 0  2  4  5  6  7 10 12]\n",
      "idx = 8\n",
      "\n",
      "at iteration 13, calculating epsilon for time: 14ms\n",
      "[ 0  2  4  5  6  7 10 12 14 14 16 17]\n",
      "[ 0  2  4  5  6  7 10 12]\n",
      "idx = 8\n",
      "\n",
      "at iteration 14, calculating epsilon for time: 15ms\n",
      "[ 0  2  4  5  6  7 10 12 14 14 16 17]\n",
      "[ 0  2  4  5  6  7 10 12 14 14]\n",
      "idx = 10\n",
      "\n",
      "at iteration 15, calculating epsilon for time: 16ms\n",
      "[ 0  2  4  5  6  7 10 12 14 14 16 17]\n",
      "[ 0  2  4  5  6  7 10 12 14 14]\n",
      "idx = 10\n",
      "\n",
      "at iteration 16, calculating epsilon for time: 17ms\n",
      "[ 0  2  4  5  6  7 10 12 14 14 16 17]\n",
      "[ 0  2  4  5  6  7 10 12 14 14 16]\n",
      "idx = 11\n",
      "\n",
      "at iteration 17, calculating epsilon for time: 18ms\n",
      "[ 0  2  4  5  6  7 10 12 14 14 16 17]\n",
      "[ 0  2  4  5  6  7 10 12 14 14 16 17]\n",
      "idx = 12\n",
      "\n",
      "at iteration 18, calculating epsilon for time: 19ms\n",
      "[ 0  2  4  5  6  7 10 12 14 14 16 17]\n",
      "[ 0  2  4  5  6  7 10 12 14 14 16 17]\n",
      "idx = 12\n",
      "\n"
     ]
    }
   ],
   "source": [
    "dt = 0.001\n",
    "for it in range(int(spikes_t[-1])+2):\n",
    "    print(f\"at iteration {it}, calculating epsilon for time: {it+1}ms\")\n",
    "    print(spikes_t)\n",
    "    idx = np.searchsorted(spikes_t, it, side='right')\n",
    "    print(spikes_t[:idx])\n",
    "    print(f\"idx = {idx}\")\n",
    "    print()\n"
   ]
  },
  {
   "cell_type": "code",
   "execution_count": null,
   "metadata": {},
   "outputs": [],
   "source": []
  }
 ],
 "metadata": {
  "kernelspec": {
   "display_name": "generalvenv",
   "language": "python",
   "name": "python3"
  },
  "language_info": {
   "codemirror_mode": {
    "name": "ipython",
    "version": 3
   },
   "file_extension": ".py",
   "mimetype": "text/x-python",
   "name": "python",
   "nbconvert_exporter": "python",
   "pygments_lexer": "ipython3",
   "version": "3.12.0"
  }
 },
 "nbformat": 4,
 "nbformat_minor": 2
}
