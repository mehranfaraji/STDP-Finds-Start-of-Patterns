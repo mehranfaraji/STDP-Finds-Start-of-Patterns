{
 "cells": [
  {
   "cell_type": "code",
   "execution_count": 1,
   "metadata": {},
   "outputs": [],
   "source": [
    "import os\n",
    "import yaml\n",
    "import numpy as np\n",
    "from scipy import sparse\n",
    "import matplotlib.pyplot as plt\n",
    "from plotting import plot_input, plot_potential\n",
    "from SRM import SRM"
   ]
  },
  {
   "cell_type": "markdown",
   "metadata": {},
   "source": [
    "## Experiment 1\n",
    "Changing the patternlength in range [10, 25, 50, 75, 100]ms "
   ]
  },
  {
   "cell_type": "code",
   "execution_count": null,
   "metadata": {},
   "outputs": [],
   "source": [
    "from InputGenerator import InputGenerator\n",
    "input_generator = InputGenerator(\"hyperparameters.yml\")\n",
    "pattern_lengths = [\n",
    "    #              ('input-data-patternlength-10ms', 0.010),\n",
    "#                 #    ('input-data-patternlength-25ms', 0.025),\n",
    "#                 #    ('input-data-patternlength-75ms', 0.075),\n",
    "                  #  ('input-data-patternlength-100ms', 0.100),\n",
    "                   ('input-data-patternlength-200ms', 0.200)\n",
    "                ]\n",
    "# for data in pattern_lengths:\n",
    "    # input_generator.generate_input_data(input_folder=data[0], patternlength=data[1])"
   ]
  },
  {
   "cell_type": "code",
   "execution_count": 2,
   "metadata": {},
   "outputs": [],
   "source": [
    "def initialize_weight(initial_weight, spike_train):\n",
    "    return np.ones((spike_train.shape[0],1)) * initial_weight\n",
    "\n",
    "def run_simulation(model, spike_train, weight, pattern_times):\n",
    "    model.reset_neuron()\n",
    "    weight, latency = model.run(spike_train, weight, pattern_times)\n",
    "    weight = np.array([w[0] for w in weight]).reshape((-1,1))\n",
    "    latency = np.array([l for l in latency])\n",
    "    return model, weight, latency"
   ]
  },
  {
   "cell_type": "code",
   "execution_count": 3,
   "metadata": {},
   "outputs": [],
   "source": [
    "A_pos = 0.03125\n",
    "B = 0.85\n",
    "tau_pos = 0.0168\n",
    "tau_neg = 0.0337\n",
    "A_neg = -B * A_pos\n",
    "\n",
    "threshold = 500\n",
    "tau_m = 0.010\n",
    "tau_s = 0.0025\n",
    "K1 = 2\n",
    "K2 = 4\n",
    "dt = 0.001\n",
    "tref = 0.001\n",
    "initial_weight = 0.475"
   ]
  },
  {
   "cell_type": "code",
   "execution_count": 9,
   "metadata": {},
   "outputs": [],
   "source": [
    "def read_data(input_folder):\n",
    "    times = np.load(os.path.join(input_folder, \"times.npy\"))\n",
    "    indices = np.load(os.path.join(input_folder, \"indices.npy\"))\n",
    "    times_pattern = np.load(os.path.join(input_folder, \"times_pattern.npy\"))\n",
    "    indices_pattern = np.load(os.path.join(input_folder, \"indices_pattern.npy\"))\n",
    "    position_copypaste = np.load(os.path.join(input_folder, \"position_copypaste.npy\"))\n",
    "    # sparse_spike_train = sparse.load_npz(os.path.join(input_folder, \"sparse_spike_train.npz\"))\n",
    "    # spike_train = sparse_spike_train.toarray()\n",
    "    # pattern_times = list(np.load(os.path.join(input_folder, \"pattern_times.npy\")))\n",
    "\n",
    "    with open(\"hyperparameters.yml\", \"r\") as yaml_file:\n",
    "        hyperparameters = yaml.safe_load(yaml_file)\n",
    "    dt = hyperparameters[\"dt\"]\n",
    "    # patternlength = hyperparameters[\"patternlength\"]\n",
    "\n",
    "    return times, indices, times_pattern, indices_pattern, position_copypaste, dt\n",
    "\n",
    "def plot_rate_hist(output_folder, times):\n",
    "    start_time = 0.0\n",
    "    end_time = 0.6\n",
    "    bin_edges = np.linspace(start_time, end_time, num=int(end_time/dt/10))\n",
    "    plt.figure(figsize=(10, 6))\n",
    "    plt.hist(times, bins=bin_edges, color='skyblue', edgecolor='black', weights=np.ones_like(times)* 100/2000)\n",
    "    plt.title('population-averaged firing rates over 10 ms time bins')\n",
    "    plt.xlabel('Time (s)')\n",
    "    plt.ylabel('Firing rate (Hz)')\n",
    "    plt.grid(True)\n",
    "    plt.savefig(os.path.join(output_folder, 'rate-hist.png'))\n",
    "\n",
    "\n",
    "def plot_latency(output_folder, latency):\n",
    "    plt.figure(figsize=(14, 5))\n",
    "    plt.plot(latency / dt, '.', alpha=0.7)\n",
    "    plt.ylabel('Postsynaptic Spike Latency (ms)')\n",
    "    plt.xlabel('# discharges')\n",
    "    plt.savefig(os.path.join(output_folder, \"latency.png\"))\n",
    "\n",
    "def plot_weight_dist(output_folder, weight):\n",
    "    active_ratio = np.sum(weight>0.7)/ len(weight) * 100\n",
    "    plt.figure()\n",
    "    plt.plot(np.arange(len(weight)), weight, '.k')\n",
    "    plt.title(f'active neuron ration (w > 0.7): {active_ratio:.1f}%')\n",
    "    plt.xlabel('Neuron number')\n",
    "    plt.ylabel('Weight (arbitrary units)')\n",
    "    plt.savefig(os.path.join(output_folder, \"weight-dist.png\"))"
   ]
  },
  {
   "cell_type": "code",
   "execution_count": null,
   "metadata": {},
   "outputs": [],
   "source": [
    "def train_model(input_folder):\n",
    "  sparse_spike_train = sparse.load_npz(os.path.join(input_folder, \"sparse_spike_train.npz\"))\n",
    "  spike_train = sparse_spike_train.toarray()\n",
    "  pattern_times = list(np.load(os.path.join(input_folder, \"pattern_times.npy\")))\n",
    "\n",
    "  weight = initialize_weight(initial_weight, spike_train)\n",
    "  model = SRM(threshold=threshold, tau_m=tau_m, tau_s=tau_s, K1=K1, K2=K2,\n",
    "          dt=dt, tref=tref,\n",
    "          A_pos=A_pos, B=B, tau_pos=tau_pos, tau_neg=tau_neg)\n",
    "\n",
    "  model, weight, latency = run_simulation(model, spike_train, weight, pattern_times)\n",
    "\n",
    "  return model, weight, latency"
   ]
  },
  {
   "cell_type": "code",
   "execution_count": null,
   "metadata": {},
   "outputs": [],
   "source": [
    "input_folder = \"input-data-patternlength-25ms\"\n",
    "model_25, weight_25, latency_25 = train_model(input_folder)"
   ]
  },
  {
   "cell_type": "code",
   "execution_count": null,
   "metadata": {},
   "outputs": [],
   "source": [
    "input_folder = \"input-data-patternlength-75ms\"\n",
    "model_75, weight_75, latency_75 = train_model(input_folder)"
   ]
  },
  {
   "cell_type": "code",
   "execution_count": null,
   "metadata": {},
   "outputs": [],
   "source": [
    "input_folder = \"input-data-patternlength-100ms\"\n",
    "model_100, weight_100, latency_100 = train_model(input_folder)"
   ]
  },
  {
   "cell_type": "code",
   "execution_count": null,
   "metadata": {},
   "outputs": [],
   "source": [
    "input_folder = \"input-data-patternlength-200ms\"\n",
    "model_200, weight_200, latency_200 = train_model(input_folder)"
   ]
  },
  {
   "cell_type": "code",
   "execution_count": 5,
   "metadata": {},
   "outputs": [],
   "source": [
    "def run_experiment(input_folder, output_folder, model, weight, latency):\n",
    "    if not os.path.exists(output_folder):\n",
    "        os.makedirs(output_folder)\n",
    "\n",
    "    times, indices, times_pattern, indices_pattern, position_copypaste, dt = read_data(input_folder)\n",
    "    patternlength = 450/len(position_copypaste)\n",
    "\n",
    "    params = {'start_time' : 0.0,\n",
    "        'end_time' : 1.0,\n",
    "        'start_index' : 0,\n",
    "        'end_index' : 100,}\n",
    "    plot_input(times, indices, params, times_pattern, indices_pattern, save_path=os.path.join(output_folder, 'input.png'))\n",
    "    plot_rate_hist(output_folder, times)\n",
    "    plot_latency(output_folder, latency)\n",
    "    plot_weight_dist(output_folder, weight)\n",
    "\n",
    "    step_size = 1\n",
    "    ran = np.arange(0,15,step_size)\n",
    "    for r in ran:\n",
    "        plot_potential(r, r+step_size, model, position_copypaste, patternlength, dt, save_path=os.path.join(output_folder, f'potential-{r}-{r+step_size}.png'))\n",
    "\n",
    "    step_size = 5\n",
    "    ran = np.arange(15,90,step_size)\n",
    "    for r in ran:\n",
    "        plot_potential(r, r+step_size, model, position_copypaste, patternlength, dt, save_path=os.path.join(output_folder, f'potential-{r}-{r+step_size}.png'))\n",
    "\n",
    "    step_size = 5\n",
    "    ran = np.arange(90,420,step_size)\n",
    "    for r in ran:\n",
    "        plot_potential(r, r+step_size, model, position_copypaste, patternlength, dt, save_path=os.path.join(output_folder, f'potential-{r}-{r+step_size}.png'))\n",
    "    \n",
    "    step_size = 2\n",
    "    ran = np.arange(430,450,step_size)\n",
    "    for r in ran:\n",
    "        plot_potential(r, r+step_size, model, position_copypaste, patternlength, dt, save_path=os.path.join(output_folder, f'potential-{r}-{r+step_size}.png'))\n"
   ]
  },
  {
   "cell_type": "code",
   "execution_count": 6,
   "metadata": {},
   "outputs": [],
   "source": [
    "input_output = [\n",
    "                # ('input-data-patternlength-10ms','patternlength-experiment-10ms'),\n",
    "                # ('input-data-patternlength-25ms','patternlength-experiment-25ms', model_25, weight_25, latency_25)\n",
    "                # ('input-data-patternlength-75ms','patternlength-experiment-75ms', model_75, weight_75, latency_75),\n",
    "                ('input-data-patternlength-100ms','patternlength-experiment-100ms', model_100, weight_100, latency_100),\n",
    "                # ('input-data-patternlength-200ms','patternlength-experiment-200ms', model_200, weight_200, latency_200),\n",
    "                ]"
   ]
  },
  {
   "cell_type": "code",
   "execution_count": 1,
   "metadata": {},
   "outputs": [],
   "source": [
    "for input_folder, output_folder, model, weight, latency in input_output:\n",
    "    run_experiment(input_folder, output_folder, model, weight, latency)"
   ]
  },
  {
   "cell_type": "code",
   "execution_count": null,
   "metadata": {},
   "outputs": [],
   "source": []
  },
  {
   "cell_type": "markdown",
   "metadata": {},
   "source": [
    "For patternlength = 200ms, the latency at the end is 77ms.\n",
    "\n",
    "For patternlength = 100ms in the second experiment, the latency at the end for the first spike inside the pattern is 38ms\n",
    "and for the second spike is 49ms! \n"
   ]
  }
 ],
 "metadata": {
  "kernelspec": {
   "display_name": "generalvenv",
   "language": "python",
   "name": "python3"
  },
  "language_info": {
   "codemirror_mode": {
    "name": "ipython",
    "version": 3
   },
   "file_extension": ".py",
   "mimetype": "text/x-python",
   "name": "python",
   "nbconvert_exporter": "python",
   "pygments_lexer": "ipython3",
   "version": "3.12.0"
  }
 },
 "nbformat": 4,
 "nbformat_minor": 2
}
